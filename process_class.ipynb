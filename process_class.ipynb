{
 "cells": [
  {
   "cell_type": "code",
   "execution_count": 45,
   "metadata": {},
   "outputs": [],
   "source": [
    "import numpy as np\n",
    "from bs4 import BeautifulSoup"
   ]
  },
  {
   "cell_type": "code",
   "execution_count": 52,
   "metadata": {
    "scrolled": true
   },
   "outputs": [],
   "source": [
    "txt = open(\"./data/pythia8_BasicReco.lhe\", 'r')\n",
    "\n",
    "# in_event = False\n",
    "# events = []\n",
    "# event = []\n",
    "\n",
    "# for line in txt:\n",
    "#     line = line.strip()\n",
    "    \n",
    "#     if line == '</event>':\n",
    "#         in_event = False\n",
    "#         events.append(event)\n",
    "#         event = []\n",
    "    \n",
    "#     if in_event:\n",
    "#         event.append(line)\n",
    "    \n",
    "#     if line == '<event>':\n",
    "#         in_event = True\n",
    "\n",
    "soup = BeautifulSoup(txt, \"lxml\")\n",
    "\n",
    "b= []\n",
    "\n",
    "for a in soup.find_all('event'):\n",
    "    b.append(a.string)"
   ]
  },
  {
   "cell_type": "code",
   "execution_count": 57,
   "metadata": {},
   "outputs": [
    {
     "data": {
      "text/plain": [
       "['17   0  5.9169536E-05 -1.0000000E+00 -1.0000000E+00 -1.0000000E+00',\n",
       " '        2    3    0    0    0    0  0.00000000000E+00  0.00000000000E+00  0.10359953613E+04  0.10359953613E+04  0.00000000000E+00 0.00000 0.00000',\n",
       " '       -2    3    0    0    0    0  0.00000000000E+00  0.00000000000E+00 -0.11957039795E+04  0.11957039795E+04  0.00000000000E+00 0.00000 0.00000',\n",
       " '  4000002    3    1    2    0    0  0.40726223755E+03 -0.23277474976E+03 -0.21694328308E+03  0.11256602783E+04  1.00000000000E+03 0.00000 0.00000',\n",
       " ' -4000002    3    1    2    0    0 -0.40726223755E+03  0.23277474976E+03  0.57234615326E+02  0.11060390625E+04  1.00000000000E+03 0.00000 0.00000',\n",
       " '       51    3    0    0    0    0  0.28354455948E+02  0.41406452179E+02 -0.57064575195E+03  0.57293542480E+03  1.00000000000E+01 0.00000 0.00000',\n",
       " '        2    3    0    0    0    0  0.47718917847E+03 -0.22509912109E+03  0.28256964111E+03  0.59851885986E+03  0.33000001311E+00 0.00000 0.00000',\n",
       " '      -51    3    0    0    0    0 -0.84939659119E+02  0.54379449463E+03 -0.30218359375E+03  0.62796661377E+03  1.00000000000E+01 0.00000 0.00000',\n",
       " '       -2    3    0    0    0    0 -0.23868582153E+03 -0.27688031006E+03  0.27396243286E+03  0.45682507324E+03  0.33000001311E+00 0.00000 0.00000',\n",
       " '       21    1    0    0    0    0 -0.77587646246E+00  0.64960331917E+01 -0.17347291946E+02  0.18569860458E+02  0.10539131165E+01 0.00000 0.00000',\n",
       " '       21    1    0    0    0    0 -0.17973302841E+02 -0.41643261909E+01 -0.27548818588E+02  0.33444149017E+02  0.43809137344E+01 0.00000 0.00000',\n",
       " '       21    1    0    0    0    0 -0.21906507492E+02 -0.51653122902E+01 -0.12537900925E+02  0.26595760345E+02  0.65999989510E+01 0.00000 0.00000',\n",
       " '       21    1    0    0    0    0 -0.21048536301E+02  0.12007794380E+02  0.86029075623E+02  0.89526336670E+02  0.51706213951E+01 0.00000 0.00000',\n",
       " '       21    1    0    0    0    0 -0.65439010620E+02 -0.53815574646E+02 -0.53960533142E+01  0.85860626221E+02  0.12827677727E+02 0.00000 0.00000',\n",
       " '       21    1    0    0    0    0 -0.66100685120E+02 -0.57533473969E+02 -0.80552131653E+02  0.11930902863E+03  0.81606969833E+01 0.00000 0.00000',\n",
       " '       21    1    0    0    0    0 -0.20756130981E+03 -0.25386358643E+03  0.27455853271E+03  0.42859008789E+03  0.27904262543E+02 0.00000 0.00000',\n",
       " '       21    1    0    0    0    0  0.47609078979E+03 -0.22447276306E+03  0.28043435669E+03  0.59779400635E+03  0.40789424896E+02 0.00000 0.00000',\n",
       " '       12    1    0    0    0    0 -0.54949134827E+02  0.57217553711E+03  0.00000000000E+00  0.57480798340E+03  0.00000000000E+00 0.00000 0.00000']"
      ]
     },
     "execution_count": 57,
     "metadata": {},
     "output_type": "execute_result"
    }
   ],
   "source": [
    "b[0].split('\\n')[1:-1]"
   ]
  },
  {
   "cell_type": "code",
   "execution_count": 33,
   "metadata": {},
   "outputs": [],
   "source": [
    "somma = 0\n",
    "for event in events:\n",
    "    somma += float(event[0].split()[2])"
   ]
  },
  {
   "cell_type": "code",
   "execution_count": 34,
   "metadata": {},
   "outputs": [
    {
     "data": {
      "text/plain": [
       "0.00710326656"
      ]
     },
     "execution_count": 34,
     "metadata": {},
     "output_type": "execute_result"
    }
   ],
   "source": [
    "somma"
   ]
  },
  {
   "cell_type": "code",
   "execution_count": 58,
   "metadata": {},
   "outputs": [],
   "source": [
    "class process:\n",
    "    \n",
    "    supported_file_formats = ['lhe']\n",
    "    \n",
    "    def __init__(self, txt_file):\n",
    "        \n",
    "        file_format = txt_file.split('.')[-1]\n",
    "        \n",
    "        if file_format not in process.supported_file_formats:\n",
    "            print(\"File format %s not recognised.\" % file_format)\n",
    "        else:\n",
    "            if file_format == 'lhe':\n",
    "                self.events = self.read_lhe(txt_file)\n",
    "            \n",
    "            #self.cross_section = sum([event.weight for event in self.events])\n",
    "    \n",
    "    def read_lhe(self, txt_file):\n",
    "        \n",
    "        with open(txt_file, 'r') as f:\n",
    "            soup = BeautifulSoup(f, \"lxml\")\n",
    "\n",
    "            events = []\n",
    "\n",
    "            for event in soup.find_all('event'):\n",
    "                events.append(event.string.split('\\n')[1:-1])\n",
    "        \n",
    "        return events\n",
    "    \n",
    "    @property\n",
    "    def num_events(self):\n",
    "        return len(self.events)\n",
    "            \n",
    "        "
   ]
  },
  {
   "cell_type": "code",
   "execution_count": 59,
   "metadata": {},
   "outputs": [],
   "source": [
    "prova = process(\"./data/pythia8_BasicReco.lhe\")"
   ]
  },
  {
   "cell_type": "code",
   "execution_count": 60,
   "metadata": {},
   "outputs": [
    {
     "data": {
      "text/plain": [
       "100"
      ]
     },
     "execution_count": 60,
     "metadata": {},
     "output_type": "execute_result"
    }
   ],
   "source": [
    "prova.num_events"
   ]
  },
  {
   "cell_type": "code",
   "execution_count": null,
   "metadata": {},
   "outputs": [],
   "source": []
  }
 ],
 "metadata": {
  "kernelspec": {
   "display_name": "Python 3",
   "language": "python",
   "name": "python3"
  },
  "language_info": {
   "codemirror_mode": {
    "name": "ipython",
    "version": 3
   },
   "file_extension": ".py",
   "mimetype": "text/x-python",
   "name": "python",
   "nbconvert_exporter": "python",
   "pygments_lexer": "ipython3",
   "version": "3.6.4"
  }
 },
 "nbformat": 4,
 "nbformat_minor": 2
}
