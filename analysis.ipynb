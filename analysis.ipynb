{
 "cells": [
  {
   "cell_type": "code",
   "execution_count": 9,
   "metadata": {},
   "outputs": [],
   "source": [
    "import numpy as np\n",
    "from Analysis_classes import *\n",
    "from Analysis_functions import *\n",
    "\n",
    "import matplotlib.pyplot as plt"
   ]
  },
  {
   "cell_type": "code",
   "execution_count": 2,
   "metadata": {},
   "outputs": [],
   "source": [
    "def MET_rej(event, ET_min=-1, ET_max=-1):\n",
    "    \"\"\"\n",
    "    Return True if the event has to be rejected.\n",
    "    \"\"\"\n",
    "    particles = get_particles(event.final_states, 12)\n",
    "    \n",
    "    mom_tot = 0\n",
    "    for particle in particles:\n",
    "        mom_tot += particle.mom\n",
    "        \n",
    "    ET = np.linalg.norm(mom_tot[1:3])\n",
    "    return (ET < ET_min) or (ET > ET_max and ET_max != -1)\n",
    "\n",
    "def jet_pt_rej(event, PT_min_1, PT_min_2=0):\n",
    "    \"\"\"\n",
    "    Return True if the event has to be rejected.\n",
    "    \"\"\"\n",
    "    jets = get_particles(event.final_states, 21)\n",
    "    \n",
    "    highest_pt_jets = sorted(jets, key=lambda x: x.pT, reverse=True)[:2]\n",
    "    \n",
    "    return (highest_pt_jets[0].pT < PT_min_1) and all([jet.pT < PT_min_2 for jet in highest_pt_jets])\n",
    "\n",
    "def generate_DV(event, ctau, pdgs):\n",
    "    \"\"\"\n",
    "    Generate displaced vertices for every particle in the event with pdg code\n",
    "    contained in pdgs.\n",
    "    Return: list of 3-vectors representing the displaced vertices.\n",
    "    \"\"\"\n",
    "    mediators = []\n",
    "    DV = []\n",
    "\n",
    "    for pdg in pdgs:\n",
    "        mediators += get_particles(event.particles, pdg)\n",
    "\n",
    "    for y in mediators:\n",
    "\n",
    "        k = ctau * y.beta * y.gamma\n",
    "\n",
    "        L = np.random.exponential(k)\n",
    "\n",
    "        DV.append(L * versor(y.mom3))\n",
    "\n",
    "    return DV\n",
    "\n",
    "def DV_rej(DVs, Dxy_min, Dxy_max, Dz_max):\n",
    "    \"\"\"\n",
    "    Return True if the event has to be rejected.\n",
    "    \"\"\"\n",
    "    rejection = []\n",
    "    for DV in DVs:\n",
    "        Dxy = np.linalg.norm(DV[:2])\n",
    "        Dz = np.abs(DV[2])\n",
    "        rejection.append((Dxy < Dxy_min) or (Dxy > Dxy_max) or (Dz > Dz_max))\n",
    "    \n",
    "    return all(rejection)"
   ]
  },
  {
   "cell_type": "code",
   "execution_count": 13,
   "metadata": {},
   "outputs": [],
   "source": [
    "process = Process(\"./data/width_10e-13.lhe\")\n",
    "\n",
    "selected_events = []\n",
    "\n",
    "ET_cut = 200\n",
    "PT_min_1 = 70\n",
    "PT_min_2 = 25\n",
    "Dxy_min = 0.004\n",
    "Dxy_max = 0.3\n",
    "Dz_max = 0.3\n",
    "\n",
    "for event in process.events:\n",
    "    reject = False\n",
    "    \n",
    "    DV = generate_DV(event, 1e2, [4000002, -4000002])\n",
    "\n",
    "    reject = MET_rej(event, ET_cut) or jet_pt_rej(event, PT_min_1, PT_min_2) or DV_rej(DV, Dxy_min, Dxy_max, Dz_max)\n",
    "    \n",
    "    if not reject:\n",
    "        selected_events.append(event)"
   ]
  },
  {
   "cell_type": "code",
   "execution_count": 14,
   "metadata": {},
   "outputs": [
    {
     "data": {
      "text/plain": [
       "10000"
      ]
     },
     "execution_count": 14,
     "metadata": {},
     "output_type": "execute_result"
    }
   ],
   "source": [
    "process.num_events"
   ]
  },
  {
   "cell_type": "code",
   "execution_count": 15,
   "metadata": {},
   "outputs": [
    {
     "data": {
      "text/plain": [
       "89"
      ]
     },
     "execution_count": 15,
     "metadata": {},
     "output_type": "execute_result"
    }
   ],
   "source": [
    "len(selected_events)"
   ]
  },
  {
   "cell_type": "code",
   "execution_count": 16,
   "metadata": {},
   "outputs": [
    {
     "data": {
      "text/plain": [
       "0.005814800299999008"
      ]
     },
     "execution_count": 16,
     "metadata": {},
     "output_type": "execute_result"
    }
   ],
   "source": [
    "process.cross_section"
   ]
  },
  {
   "cell_type": "code",
   "execution_count": 17,
   "metadata": {},
   "outputs": [
    {
     "name": "stdout",
     "output_type": "stream",
     "text": [
      "1.69745650357571\n"
     ]
    }
   ],
   "source": [
    "A = len(selected_events)/process.num_events\n",
    "Luminosity = 32.8\n",
    "\n",
    "N_signal = process.cross_section * 1000 * Luminosity * A\n",
    "\n",
    "print(N_signal)"
   ]
  },
  {
   "cell_type": "code",
   "execution_count": 23,
   "metadata": {},
   "outputs": [],
   "source": [
    "process = Process(\"./data/width_10e-7.lhe\")\n",
    "\n",
    "selected_events = []\n",
    "\n",
    "ET_cut = 200\n",
    "PT_min_1 = 70\n",
    "PT_min_2 = 25\n",
    "Dxy_min = 0.004\n",
    "Dxy_max = 0.3\n",
    "Dz_max = 0.3\n",
    "\n",
    "for event in process.events:\n",
    "    reject = False\n",
    "    \n",
    "    DV = generate_DV(event, 1e2, [4000002, -4000002])\n",
    "\n",
    "    reject = MET_rej(event, ET_cut) or jet_pt_rej(event, PT_min_1, PT_min_2) or DV_rej(DV, Dxy_min, Dxy_max, Dz_max)\n",
    "    \n",
    "    if not reject:\n",
    "        selected_events.append(event)"
   ]
  },
  {
   "cell_type": "code",
   "execution_count": 24,
   "metadata": {},
   "outputs": [
    {
     "data": {
      "text/plain": [
       "10000"
      ]
     },
     "execution_count": 24,
     "metadata": {},
     "output_type": "execute_result"
    }
   ],
   "source": [
    "process.num_events"
   ]
  },
  {
   "cell_type": "code",
   "execution_count": 25,
   "metadata": {},
   "outputs": [
    {
     "data": {
      "text/plain": [
       "0.005805699799999135"
      ]
     },
     "execution_count": 25,
     "metadata": {},
     "output_type": "execute_result"
    }
   ],
   "source": [
    "process.cross_section"
   ]
  },
  {
   "cell_type": "code",
   "execution_count": 26,
   "metadata": {},
   "outputs": [
    {
     "data": {
      "text/plain": [
       "81"
      ]
     },
     "execution_count": 26,
     "metadata": {},
     "output_type": "execute_result"
    }
   ],
   "source": [
    "len(selected_events)"
   ]
  },
  {
   "cell_type": "code",
   "execution_count": 27,
   "metadata": {},
   "outputs": [
    {
     "name": "stdout",
     "output_type": "stream",
     "text": [
      "1.54245832286377\n"
     ]
    }
   ],
   "source": [
    "A = len(selected_events)/process.num_events\n",
    "Luminosity = 32.8\n",
    "\n",
    "N_signal = process.cross_section * 1000 * Luminosity * A\n",
    "\n",
    "print(N_signal)"
   ]
  },
  {
   "cell_type": "markdown",
   "metadata": {},
   "source": [
    "# ee > mu mu Validation"
   ]
  },
  {
   "cell_type": "code",
   "execution_count": 2,
   "metadata": {},
   "outputs": [],
   "source": [
    "process = Process(\"./data/ee_mumu.lhe\")"
   ]
  },
  {
   "cell_type": "code",
   "execution_count": 17,
   "metadata": {},
   "outputs": [],
   "source": [
    "def highest_pt_jets(event, n=1):\n",
    "    \"\"\"\n",
    "    This function returns n jets with the highest pT.\n",
    "    Returns: a list of Particle class. If n=1, the single\n",
    "    object will be returned.\n",
    "    \"\"\"\n",
    "    jets = get_particles(event.final_states, 21)\n",
    "    \n",
    "    if n==1:\n",
    "        return sorted(jets, key=lambda x: x.pT, reverse=True)[0]\n",
    "    else:\n",
    "        return sorted(jets, key=lambda x: x.pT, reverse=True)[:n]"
   ]
  },
  {
   "cell_type": "code",
   "execution_count": 4,
   "metadata": {},
   "outputs": [],
   "source": [
    "jets = [highest_pt_jet(event) for event in process.events]"
   ]
  },
  {
   "cell_type": "code",
   "execution_count": 7,
   "metadata": {},
   "outputs": [],
   "source": [
    "pTs = [jet.pT for jet in jets]"
   ]
  },
  {
   "cell_type": "code",
   "execution_count": 16,
   "metadata": {},
   "outputs": [
    {
     "data": {
      "image/png": "[encoded data removed]",
      "text/plain": [
       "<matplotlib.figure.Figure at 0x113a66eb8>"
      ]
     },
     "metadata": {},
     "output_type": "display_data"
    }
   ],
   "source": [
    "plt.figure(figsize=(7,5))\n",
    "plt.hist(pTs, range=(0, 500), bins=40)\n",
    "plt.yscale('log')\n",
    "plt.show()"
   ]
  },
  {
   "cell_type": "code",
   "execution_count": 11,
   "metadata": {},
   "outputs": [],
   "source": [
    "?plt.hist"
   ]
  },
  {
   "cell_type": "code",
   "execution_count": null,
   "metadata": {},
   "outputs": [],
   "source": []
  }
 ],
 "metadata": {
  "kernelspec": {
   "display_name": "Python 3",
   "language": "python",
   "name": "python3"
  },
  "language_info": {
   "codemirror_mode": {
    "name": "ipython",
    "version": 3
   },
   "file_extension": ".py",
   "mimetype": "text/x-python",
   "name": "python",
   "nbconvert_exporter": "python",
   "pygments_lexer": "ipython3",
   "version": "3.6.4"
  }
 },
 "nbformat": 4,
 "nbformat_minor": 2
}
